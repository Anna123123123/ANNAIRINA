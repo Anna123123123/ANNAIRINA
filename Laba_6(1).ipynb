{
 "cells": [
  {
   "cell_type": "markdown",
   "metadata": {},
   "source": [
    "Используемые тексты: \"Маленький принц\" и \"Преступление и наказание\""
   ]
  },
  {
   "cell_type": "code",
   "execution_count": 90,
   "metadata": {},
   "outputs": [],
   "source": [
    "partsCount = 400\n",
    "myTestSize = 0.2\n",
    "\n",
    "textDir = \"./text/\"\n",
    "little_guy_File = textDir + \"lg.txt\"\n",
    "punishment_File = textDir + \"p.txt\"\n",
    "with open(little_guy_File, encoding=\"utf8\") as f:\n",
    "    little_guy_text = f.read()\n",
    "    \n",
    "with open(punishment_File, encoding=\"utf8\") as f:\n",
    "    punishment_text = f.read()"
   ]
  },
  {
   "cell_type": "code",
   "execution_count": 91,
   "metadata": {},
   "outputs": [
    {
     "data": {
      "text/plain": [
       "'\\ufeffМаленький принц\\nI\\nКогда мне было шесть лет, в книге под названием «Правдивые истории», где рассказывалось про девственные леса, я увидел однажды удивительную картинку. На картинке огромная змея — удав — глотала хищного зверя. Вот как это было нарисовано:\\nВ книге говорилось: «Удав заглатывает свою жертву целиком, не жуя. После этого он уже не может шевельнуться и спит полгода подряд, пока не переварит пищу».\\nЯ много раздумывал о полной приключений жизни джунглей и тоже нарисовал цветным карандаш'"
      ]
     },
     "execution_count": 91,
     "metadata": {},
     "output_type": "execute_result"
    }
   ],
   "source": [
    "little_guy_text[:500]"
   ]
  },
  {
   "cell_type": "code",
   "execution_count": 92,
   "metadata": {},
   "outputs": [
    {
     "data": {
      "text/plain": [
       "'\\ufeff     В начале июля, в чрезвычайно жаркое время, под вечер, один молодой человек вышел из своей каморки, которую нанимал от жильцов в С-м переулке, на улицу и медленно, как бы в нерешимости, отправился к К-ну мосту.1\\n     Он благополучно избегнул встречи с своею хозяйкой на лестнице. Каморка его приходилась под самою кровлей высокого пятиэтажного дома и походила более на шкаф, чем на квартиру. Квартирная же хозяйка его, у которой он нанимал эту каморку с обедом и прислугой, помещалась одною лест'"
      ]
     },
     "execution_count": 92,
     "metadata": {},
     "output_type": "execute_result"
    }
   ],
   "source": [
    "punishment_text[:500]"
   ]
  },
  {
   "cell_type": "markdown",
   "metadata": {},
   "source": [
    "# Токенизация"
   ]
  },
  {
   "cell_type": "markdown",
   "metadata": {},
   "source": [
    "Выделим из текстов отдельные слова. Удалим ненужные \"слова\" (знаки препинания, лишние символы)"
   ]
  },
  {
   "cell_type": "code",
   "execution_count": 93,
   "metadata": {},
   "outputs": [
    {
     "name": "stderr",
     "output_type": "stream",
     "text": [
      "[nltk_data] Downloading package punkt to\n",
      "[nltk_data]     C:\\Users\\Irina\\AppData\\Roaming\\nltk_data...\n",
      "[nltk_data]   Package punkt is already up-to-date!\n"
     ]
    },
    {
     "data": {
      "text/plain": [
       "['\\ufeffМаленький',\n",
       " 'принц',\n",
       " 'I',\n",
       " 'Когда',\n",
       " 'мне',\n",
       " 'было',\n",
       " 'шесть',\n",
       " 'лет',\n",
       " ',',\n",
       " 'в',\n",
       " 'книге',\n",
       " 'под',\n",
       " 'названием',\n",
       " '«',\n",
       " 'Правдивые']"
      ]
     },
     "execution_count": 93,
     "metadata": {},
     "output_type": "execute_result"
    }
   ],
   "source": [
    "import nltk\n",
    "\n",
    "nltk.download(\"punkt\")\n",
    "little_guy_tokens = nltk.word_tokenize(little_guy_text)\n",
    "little_guy_tokens[:15]"
   ]
  },
  {
   "cell_type": "code",
   "execution_count": 94,
   "metadata": {},
   "outputs": [
    {
     "data": {
      "text/plain": [
       "['\\ufeff',\n",
       " 'В',\n",
       " 'начале',\n",
       " 'июля',\n",
       " ',',\n",
       " 'в',\n",
       " 'чрезвычайно',\n",
       " 'жаркое',\n",
       " 'время',\n",
       " ',',\n",
       " 'под',\n",
       " 'вечер',\n",
       " ',',\n",
       " 'один',\n",
       " 'молодой']"
      ]
     },
     "execution_count": 94,
     "metadata": {},
     "output_type": "execute_result"
    }
   ],
   "source": [
    "# второй текст\n",
    "punishment_tokens = nltk.word_tokenize(punishment_text)\n",
    "\n",
    "punishment_tokens[:15]"
   ]
  },
  {
   "cell_type": "markdown",
   "metadata": {},
   "source": [
    "Воспользуемся стеммером, чтобы привести слова к одной форме."
   ]
  },
  {
   "cell_type": "code",
   "execution_count": 95,
   "metadata": {},
   "outputs": [
    {
     "name": "stdout",
     "output_type": "stream",
     "text": [
      "['\\ufeffмаленьк', 'принц', 'i', 'когд', 'мне', 'был', 'шест', 'лет,', 'в', 'книг']\n",
      "..........................\n",
      "['\\ufeff', 'в', 'начал', 'июля,', 'в', 'чрезвычайн', 'жарк', 'время,', 'под', 'вечер,']\n"
     ]
    }
   ],
   "source": [
    "from snowballstemmer import RussianStemmer\n",
    "stemmer = RussianStemmer()\n",
    "stemmerResult1 = stemmer.stemWords(little_guy_text.lower().split())\n",
    "stemmerResult2 = stemmer.stemWords(punishment_text.lower().split())\n",
    "\n",
    "print(stemmerResult1[:10])\n",
    "print('..........................')\n",
    "print(stemmerResult2[:10])"
   ]
  },
  {
   "cell_type": "markdown",
   "metadata": {},
   "source": [
    "Как видим, слова получились \"кривыми\", простое обрезание окончания - не вариант. Воспользуемся лемматизатором."
   ]
  },
  {
   "cell_type": "code",
   "execution_count": 96,
   "metadata": {},
   "outputs": [
    {
     "name": "stdout",
     "output_type": "stream",
     "text": [
      "['\\ufeff', 'маленький', ' ', 'принц', ' ', 'I', ' ', 'когда', ' ', 'я']\n",
      ".............\n",
      "['\\ufeff ', 'в', ' ', 'начало', ' ', 'июль', ' , ', 'в', ' ', 'чрезвычайно']\n"
     ]
    }
   ],
   "source": [
    "import pymystem3\n",
    "mystem = pymystem3.Mystem()\n",
    "little_guy_lemm = mystem.lemmatize(\" \".join(little_guy_tokens))\n",
    "punishment_lemm = mystem.lemmatize(\" \".join(punishment_tokens))\n",
    "print(little_guy_lemm[:10])\n",
    "print('.............')\n",
    "print(punishment_lemm[:10])"
   ]
  },
  {
   "cell_type": "markdown",
   "metadata": {},
   "source": [
    "Посмотрим на морфологический анализ слов."
   ]
  },
  {
   "cell_type": "code",
   "execution_count": 97,
   "metadata": {},
   "outputs": [
    {
     "name": "stdout",
     "output_type": "stream",
     "text": [
      "['\\ufeffмаленький', 'принц', 'i', 'когда', 'я', 'быть', 'шесть', 'год', ',', 'в']\n",
      "................\n",
      "['\\ufeff', 'в', 'начало', 'июль', ',', 'в', 'чрезвычайно', 'жаркое', 'время', ',']\n"
     ]
    }
   ],
   "source": [
    "import pymorphy2\n",
    "morph = pymorphy2.MorphAnalyzer()\n",
    "lemm_pymorph1 = [morph.parse(s)[0].normal_form for s in little_guy_tokens]\n",
    "lemm_pymorph2 = [morph.parse(s)[0].normal_form for s in punishment_tokens]\n",
    "print(lemm_pymorph1[:10])\n",
    "print('................')\n",
    "print(lemm_pymorph2[:10])\n"
   ]
  },
  {
   "cell_type": "code",
   "execution_count": 98,
   "metadata": {},
   "outputs": [],
   "source": [
    "# Удалим знаки, пустые слова, числа\n",
    "\n",
    "bad_chars = [\"«\", \"»\",\".\",\",\",\"—\",\":\",\"1\",\"2\",\"3\",\"4\",\"5\",\"6\",\"7\",\"8\",\"9\",\"0\",\"?\",\"-\",\"[\",\"]\", \"стр\", \"(\", \")\",\n",
    "            \";\", \"X\", \"!\", \"издание\", \"…\", \"’\",\"&\"]\n",
    "\n",
    "def containsStr(a,b):\n",
    "    for i in b:\n",
    "        if i in a:\n",
    "            return True\n",
    "    return False\n",
    "\n",
    "def deleteWords(wordList):\n",
    "    resultList = [item for item in wordList if len(item) > 1 ]\n",
    "    resultList = [item for item in resultList if not containsStr(item, bad_chars) ]\n",
    "    return resultList\n",
    "\n",
    "\n",
    "\n",
    "little_guy_lemm_clear = deleteWords(little_guy_lemm)\n",
    "\n",
    "punishment_lemm_clear = deleteWords(punishment_lemm)"
   ]
  },
  {
   "cell_type": "code",
   "execution_count": 99,
   "metadata": {},
   "outputs": [
    {
     "name": "stdout",
     "output_type": "stream",
     "text": [
      "['маленький', 'принц', 'когда', 'быть', 'шесть', 'год', 'книга', 'под', 'название', 'правдивый']\n"
     ]
    }
   ],
   "source": [
    "print(little_guy_lemm_clear[:10])"
   ]
  },
  {
   "cell_type": "code",
   "execution_count": 100,
   "metadata": {},
   "outputs": [
    {
     "name": "stdout",
     "output_type": "stream",
     "text": [
      "['\\ufeff ', 'начало', 'июль', 'чрезвычайно', 'жаркий', 'время', 'под', 'вечер', 'один', 'молодой']\n"
     ]
    }
   ],
   "source": [
    "print(punishment_lemm_clear[:10])"
   ]
  },
  {
   "cell_type": "markdown",
   "metadata": {},
   "source": [
    "Чтобы снова собрать из этого, текст, просто сконкатенируем все получившиеся строки:"
   ]
  },
  {
   "cell_type": "code",
   "execution_count": 101,
   "metadata": {},
   "outputs": [],
   "source": [
    "little_guy_text_clear = \" \".join(little_guy_lemm_clear)\n",
    "punishment_text_clear = \" \".join(punishment_lemm_clear)"
   ]
  },
  {
   "cell_type": "code",
   "execution_count": 102,
   "metadata": {},
   "outputs": [
    {
     "data": {
      "text/plain": [
       "'маленький принц когда быть шесть год книга под название правдивый история где рассказываться про девственный лес увидеть однажды удивительный картинка на картинка огромный змея удав глотать хищный зверь вот как это быть нарисовать книга говориться удав заглатывать свой жертва целиком не жевать после это он уже не мочь шевельнуться спать полгода подряд пока не переваривать пища много раздумывать полный приключение жизнь джунгли тоже нарисовать цветной карандаш свой первый картинка это быть мой рисунок вот что нарисовать показывать мой творение взрослый спрашивать не ли они разве шляпа возражать это быть совсем не шляпа это быть удав который проглатывать слон тогда нарисовать удав изнутри чтобы взрослый быть понятно они ведь всегда нужно весь объяснять это мой рисунок взрослый посоветовать не рисовать змей ни снаружи ни изнутри много интересоваться география история арифметика правописание вот как случаться что шесть год отказываться от блестящий карьера художник потерпеть неудача рисуно'"
      ]
     },
     "execution_count": 102,
     "metadata": {},
     "output_type": "execute_result"
    }
   ],
   "source": [
    "little_guy_text_clear[:1000]"
   ]
  },
  {
   "cell_type": "code",
   "execution_count": 103,
   "metadata": {},
   "outputs": [
    {
     "data": {
      "text/plain": [
       "'\\ufeff  начало июль чрезвычайно жаркий время под вечер один молодой человек выходить из свой каморка который нанимать от жилец переулок на улица медленно как бы нерешимость отправляться ну мост он благополучно избегать свой хозяйка на лестница каморка его приходиться под сам кровля высокий пятиэтажный дом походить более на шкаф чем на квартира квартирный же хозяйка он который он нанимать этот каморка обед прислуга помещаться один лестница ниже отдельный квартира каждый раз при выход на улица он непременно надо быть проходить мимо хозяйкин кухня почти всегда настежь отворять на лестница каждый раз молодой человек проходить мимо чувствовать болезненный трусливый ощущение который стыдиться от который морщиться он быть должный кругом хозяйка бояться она не то чтоб он быть так трусливый забивать совсем даже напротив но некоторый время он быть раздражительный напряженный состояние похожий на ипохондрия он до то углубляться себя уединяться от все что бояться даже всякий не только хозяйка он быть з'"
      ]
     },
     "execution_count": 103,
     "metadata": {},
     "output_type": "execute_result"
    }
   ],
   "source": [
    "punishment_text_clear[:1000]"
   ]
  },
  {
   "cell_type": "code",
   "execution_count": 104,
   "metadata": {},
   "outputs": [],
   "source": [
    "# функция разделения на части\n",
    "def chunkify(lst,n):\n",
    "    return [lst[i::n] for i in range(n)]"
   ]
  },
  {
   "cell_type": "code",
   "execution_count": 105,
   "metadata": {},
   "outputs": [
    {
     "data": {
      "text/plain": [
       "['начало',\n",
       " 'грустный',\n",
       " 'считать',\n",
       " 'не',\n",
       " 'верхний',\n",
       " 'он',\n",
       " 'минута',\n",
       " 'затягивать',\n",
       " 'раскольников',\n",
       " 'голова',\n",
       " 'собственный',\n",
       " 'назад',\n",
       " 'обращать',\n",
       " 'его',\n",
       " 'вставать',\n",
       " 'не',\n",
       " 'тот',\n",
       " 'он',\n",
       " 'болезненный',\n",
       " 'писать']"
      ]
     },
     "execution_count": 105,
     "metadata": {},
     "output_type": "execute_result"
    }
   ],
   "source": [
    "little_guy_parts = chunkify(little_guy_lemm_clear, partsCount)\n",
    "punishment_parts = chunkify(punishment_lemm_clear, partsCount)\n",
    "\n",
    "punishment_parts[1][:20]"
   ]
  },
  {
   "cell_type": "code",
   "execution_count": 106,
   "metadata": {},
   "outputs": [],
   "source": [
    "# объединяем слова в частях\n",
    "# на выходе - список из текстов\n",
    "def joinWordsToTextList(wordsLists):\n",
    "    result = []\n",
    "    for i in wordsLists:\n",
    "        oneText = \" \".join(i)\n",
    "        result.append(oneText)\n",
    "    return result\n",
    "\n",
    "\n",
    "little_guy_texts = joinWordsToTextList(little_guy_parts)\n",
    "punishment_texts = joinWordsToTextList(punishment_parts)"
   ]
  },
  {
   "cell_type": "code",
   "execution_count": 107,
   "metadata": {},
   "outputs": [
    {
     "name": "stdout",
     "output_type": "stream",
     "text": [
      "little_guy_texts size:165 punishment_text size:1216\n"
     ]
    }
   ],
   "source": [
    "import os\n",
    "import pandas as pd\n",
    "import numpy as np\n",
    "\n",
    "df = pd.DataFrame(columns=[\"text\",\"class\"])\n",
    "\n",
    "for i in little_guy_texts:\n",
    "    df = df.append(pd.Series({\"text\":i, \"class\":0}), ignore_index=True)\n",
    "\n",
    "# у второго типа текстов класс == 1\n",
    "for i in punishment_texts:\n",
    "    df = df.append(pd.Series({\"text\":i, \"class\":1}), ignore_index=True)\n",
    "    \n",
    "\n",
    "print(\"little_guy_texts size:\"+str(len(little_guy_texts[3])), \"punishment_text size:\"+str(len(punishment_texts[3])))\n",
    "\n"
   ]
  },
  {
   "cell_type": "code",
   "execution_count": 108,
   "metadata": {},
   "outputs": [
    {
     "data": {
      "text/html": [
       "<div>\n",
       "<style scoped>\n",
       "    .dataframe tbody tr th:only-of-type {\n",
       "        vertical-align: middle;\n",
       "    }\n",
       "\n",
       "    .dataframe tbody tr th {\n",
       "        vertical-align: top;\n",
       "    }\n",
       "\n",
       "    .dataframe thead th {\n",
       "        text-align: right;\n",
       "    }\n",
       "</style>\n",
       "<table border=\"1\" class=\"dataframe\">\n",
       "  <thead>\n",
       "    <tr style=\"text-align: right;\">\n",
       "      <th></th>\n",
       "      <th>text</th>\n",
       "      <th>class</th>\n",
       "    </tr>\n",
       "  </thead>\n",
       "  <tbody>\n",
       "    <tr>\n",
       "      <th>0</th>\n",
       "      <td>маленький портрет это ли планета решаться же б...</td>\n",
       "      <td>0</td>\n",
       "    </tr>\n",
       "    <tr>\n",
       "      <th>1</th>\n",
       "      <td>принц какой самолет он то изменять ничто они о...</td>\n",
       "      <td>0</td>\n",
       "    </tr>\n",
       "    <tr>\n",
       "      <th>2</th>\n",
       "      <td>когда после мой бабочка как свой не раскрывать...</td>\n",
       "      <td>0</td>\n",
       "    </tr>\n",
       "    <tr>\n",
       "      <th>3</th>\n",
       "      <td>быть удаваться самолет они он обычный думать п...</td>\n",
       "      <td>0</td>\n",
       "    </tr>\n",
       "    <tr>\n",
       "      <th>4</th>\n",
       "      <td>шесть нарисовать он спрашивать она сдержанност...</td>\n",
       "      <td>0</td>\n",
       "    </tr>\n",
       "    <tr>\n",
       "      <th>...</th>\n",
       "      <td>...</td>\n",
       "      <td>...</td>\n",
       "    </tr>\n",
       "    <tr>\n",
       "      <th>795</th>\n",
       "      <td>несмотря безобразный что как он один бойко пут...</td>\n",
       "      <td>1</td>\n",
       "    </tr>\n",
       "    <tr>\n",
       "      <th>796</th>\n",
       "      <td>на  ''  вы она относить этот изредка для бы по...</td>\n",
       "      <td>1</td>\n",
       "    </tr>\n",
       "    <tr>\n",
       "      <th>797</th>\n",
       "      <td>будний мечта быть отпирать то воздух только чт...</td>\n",
       "      <td>1</td>\n",
       "    </tr>\n",
       "    <tr>\n",
       "      <th>798</th>\n",
       "      <td>время даже отчетливо комод что можно место же ...</td>\n",
       "      <td>1</td>\n",
       "    </tr>\n",
       "    <tr>\n",
       "      <th>799</th>\n",
       "      <td>довершать поневоле проговаривать должно быть б...</td>\n",
       "      <td>1</td>\n",
       "    </tr>\n",
       "  </tbody>\n",
       "</table>\n",
       "<p>800 rows × 2 columns</p>\n",
       "</div>"
      ],
      "text/plain": [
       "                                                  text class\n",
       "0    маленький портрет это ли планета решаться же б...     0\n",
       "1    принц какой самолет он то изменять ничто они о...     0\n",
       "2    когда после мой бабочка как свой не раскрывать...     0\n",
       "3    быть удаваться самолет они он обычный думать п...     0\n",
       "4    шесть нарисовать он спрашивать она сдержанност...     0\n",
       "..                                                 ...   ...\n",
       "795  несмотря безобразный что как он один бойко пут...     1\n",
       "796  на  ''  вы она относить этот изредка для бы по...     1\n",
       "797  будний мечта быть отпирать то воздух только чт...     1\n",
       "798  время даже отчетливо комод что можно место же ...     1\n",
       "799  довершать поневоле проговаривать должно быть б...     1\n",
       "\n",
       "[800 rows x 2 columns]"
      ]
     },
     "execution_count": 108,
     "metadata": {},
     "output_type": "execute_result"
    }
   ],
   "source": [
    "df"
   ]
  },
  {
   "cell_type": "code",
   "execution_count": 109,
   "metadata": {},
   "outputs": [],
   "source": [
    "# разбив на трейн и тест\n",
    "from sklearn.model_selection import train_test_split\n",
    "\n",
    "X_train, X_test, y_train, y_test = train_test_split(df[\"text\"], df[\"class\"], test_size=myTestSize, random_state=42)"
   ]
  },
  {
   "cell_type": "code",
   "execution_count": 110,
   "metadata": {},
   "outputs": [
    {
     "data": {
      "text/plain": [
       "264    они отказываться разглядеть ничто клочок такой...\n",
       "615    хорошо шляпник из из лестница похожий солидно ...\n",
       "329    хватить барашек турецкий один путешествовать н...\n",
       "342    тысяча ка докладывать цвет быть молчание цвето...\n",
       "394    серьезно это какой стареть большой ты занимать...\n",
       "                             ...                        \n",
       "71     мой или тихо принц вышина неотложный планета п...\n",
       "106    они ты полупризнание несмышленый бывать пойти ...\n",
       "270    галстук барашек давать еще поздно который его ...\n",
       "435    лестница даже выходить неприятный шкатулка ста...\n",
       "102    чтобы речь мой на сперва сказать делать таинст...\n",
       "Name: text, Length: 640, dtype: object"
      ]
     },
     "execution_count": 110,
     "metadata": {},
     "output_type": "execute_result"
    }
   ],
   "source": [
    "X_train"
   ]
  },
  {
   "cell_type": "code",
   "execution_count": 111,
   "metadata": {},
   "outputs": [
    {
     "data": {
      "text/plain": [
       "696    пожалуй непременно крошечный почитай такой на ...\n",
       "667    трусость так только процент но он напиток это ...\n",
       "63     нарисовать ничуть сюда же есть когда тряхнуть ...\n",
       "533    он серединный действительно два сделать мещани...\n",
       "66     свой быть но сказать баобаб вдохновлять его го...\n",
       "                             ...                        \n",
       "589    вздор то только любопытство она свой манишка о...\n",
       "798    время даже отчетливо комод что можно место же ...\n",
       "744    '  шаг на молодой раз смазывать его деньги же ...\n",
       "513    чтоб быть этот состоять молодой ватага рост не...\n",
       "670    аксиома он сверкать месяц мочь от всегда задав...\n",
       "Name: text, Length: 160, dtype: object"
      ]
     },
     "execution_count": 111,
     "metadata": {},
     "output_type": "execute_result"
    }
   ],
   "source": [
    "X_test"
   ]
  },
  {
   "cell_type": "markdown",
   "metadata": {},
   "source": [
    "# Bag-of-Words-эмбеддинг\n",
    "на всех данных обучние"
   ]
  },
  {
   "cell_type": "code",
   "execution_count": 112,
   "metadata": {},
   "outputs": [],
   "source": [
    "from sklearn.feature_extraction.text import CountVectorizer\n",
    "\n",
    "bof_vect = CountVectorizer()\n",
    "bof_vect.fit(np.hstack([X_train, X_test]))\n",
    "bof_train = bof_vect.transform(X_train)\n",
    "bof_test = bof_vect.transform(X_test)"
   ]
  },
  {
   "cell_type": "code",
   "execution_count": 113,
   "metadata": {},
   "outputs": [
    {
     "data": {
      "text/plain": [
       "array([[0, 0, 0, ..., 0, 0, 0],\n",
       "       [0, 0, 0, ..., 0, 0, 0],\n",
       "       [0, 0, 0, ..., 0, 0, 0],\n",
       "       ...,\n",
       "       [0, 0, 0, ..., 0, 0, 0],\n",
       "       [0, 0, 0, ..., 0, 0, 0],\n",
       "       [0, 0, 0, ..., 0, 0, 0]], dtype=int64)"
      ]
     },
     "execution_count": 113,
     "metadata": {},
     "output_type": "execute_result"
    }
   ],
   "source": [
    "# пространство признаков\n",
    "bof_train.toarray()"
   ]
  },
  {
   "cell_type": "code",
   "execution_count": 114,
   "metadata": {},
   "outputs": [
    {
     "data": {
      "text/plain": [
       "(640, 8329)"
      ]
     },
     "execution_count": 114,
     "metadata": {},
     "output_type": "execute_result"
    }
   ],
   "source": [
    "bof_train.toarray().shape"
   ]
  },
  {
   "cell_type": "markdown",
   "metadata": {},
   "source": [
    "## TF-IDF-Эмбеддинг "
   ]
  },
  {
   "cell_type": "code",
   "execution_count": 115,
   "metadata": {},
   "outputs": [],
   "source": [
    "from sklearn.feature_extraction.text import TfidfVectorizer\n",
    "\n",
    "tfidf_vect = TfidfVectorizer()\n",
    "tfidf_vect.fit(np.hstack([X_train, X_test]))\n",
    "tfidf_train = tfidf_vect.transform(X_train)\n",
    "tfidf_test = tfidf_vect.transform(X_test)"
   ]
  },
  {
   "cell_type": "code",
   "execution_count": 116,
   "metadata": {},
   "outputs": [
    {
     "data": {
      "text/plain": [
       "array([[0., 0., 0., ..., 0., 0., 0.],\n",
       "       [0., 0., 0., ..., 0., 0., 0.],\n",
       "       [0., 0., 0., ..., 0., 0., 0.],\n",
       "       ...,\n",
       "       [0., 0., 0., ..., 0., 0., 0.],\n",
       "       [0., 0., 0., ..., 0., 0., 0.],\n",
       "       [0., 0., 0., ..., 0., 0., 0.]])"
      ]
     },
     "execution_count": 116,
     "metadata": {},
     "output_type": "execute_result"
    }
   ],
   "source": [
    "tfidf_train.toarray()"
   ]
  },
  {
   "cell_type": "code",
   "execution_count": 117,
   "metadata": {},
   "outputs": [
    {
     "data": {
      "text/plain": [
       "(640, 8329)"
      ]
     },
     "execution_count": 117,
     "metadata": {},
     "output_type": "execute_result"
    }
   ],
   "source": [
    "tfidf_train.toarray().shape"
   ]
  },
  {
   "cell_type": "markdown",
   "metadata": {},
   "source": [
    "# Word2vec-эмбеддинг"
   ]
  },
  {
   "cell_type": "code",
   "execution_count": 118,
   "metadata": {},
   "outputs": [],
   "source": [
    "from gensim.models import Word2Vec\n",
    "\n",
    "X_train_w2v = X_train.apply(str.split)\n",
    "X_test_w2v = X_test.apply(str.split)\n",
    "w2v_vect = Word2Vec(np.hstack([X_train_w2v, X_test_w2v]), size=160, min_count=10)"
   ]
  },
  {
   "cell_type": "code",
   "execution_count": 119,
   "metadata": {},
   "outputs": [
    {
     "data": {
      "text/plain": [
       "264    [они, отказываться, разглядеть, ничто, клочок,...\n",
       "615    [хорошо, шляпник, из, из, лестница, похожий, с...\n",
       "329    [хватить, барашек, турецкий, один, путешествов...\n",
       "342    [тысяча, ка, докладывать, цвет, быть, молчание...\n",
       "394    [серьезно, это, какой, стареть, большой, ты, з...\n",
       "                             ...                        \n",
       "71     [мой, или, тихо, принц, вышина, неотложный, пл...\n",
       "106    [они, ты, полупризнание, несмышленый, бывать, ...\n",
       "270    [галстук, барашек, давать, еще, поздно, которы...\n",
       "435    [лестница, даже, выходить, неприятный, шкатулк...\n",
       "102    [чтобы, речь, мой, на, сперва, сказать, делать...\n",
       "Name: text, Length: 640, dtype: object"
      ]
     },
     "execution_count": 119,
     "metadata": {},
     "output_type": "execute_result"
    }
   ],
   "source": [
    "X_train_w2v"
   ]
  },
  {
   "cell_type": "code",
   "execution_count": 120,
   "metadata": {},
   "outputs": [
    {
     "name": "stderr",
     "output_type": "stream",
     "text": [
      "<ipython-input-120-db20acbdd9c3>:1: DeprecationWarning: Call to deprecated `most_similar` (Method will be removed in 4.0.0, use self.wv.most_similar() instead).\n",
      "  w2v_vect.most_similar(positive=\"принц\")\n"
     ]
    },
    {
     "data": {
      "text/plain": [
       "[('маленький', 0.9999072551727295),\n",
       " ('цветок', 0.9998862743377686),\n",
       " ('планета', 0.9998816251754761),\n",
       " ('мой', 0.9998763203620911),\n",
       " ('сказать', 0.9998661279678345),\n",
       " ('звезда', 0.9998599290847778),\n",
       " ('спрашивать', 0.9998593926429749),\n",
       " ('когда', 0.9998427033424377),\n",
       " ('если', 0.9998371601104736),\n",
       " ('тысяча', 0.9998350143432617)]"
      ]
     },
     "execution_count": 120,
     "metadata": {},
     "output_type": "execute_result"
    }
   ],
   "source": [
    "w2v_vect.most_similar(positive=\"принц\")"
   ]
  },
  {
   "cell_type": "code",
   "execution_count": 121,
   "metadata": {},
   "outputs": [
    {
     "name": "stderr",
     "output_type": "stream",
     "text": [
      "<ipython-input-121-55be5be6cde4>:1: DeprecationWarning: Call to deprecated `most_similar` (Method will be removed in 4.0.0, use self.wv.most_similar() instead).\n",
      "  w2v_vect.most_similar(negative=[\"принц\"])\n"
     ]
    },
    {
     "data": {
      "text/plain": [
       "[('вырываться', -0.9987562894821167),\n",
       " ('полезть', -0.9988167881965637),\n",
       " ('направо', -0.9988741278648376),\n",
       " ('привидение', -0.9988819360733032),\n",
       " ('неподвижный', -0.9988837242126465),\n",
       " ('шум', -0.9988928437232971),\n",
       " ('пожелать', -0.9988932609558105),\n",
       " ('великий', -0.9988971948623657),\n",
       " ('барышня', -0.9989217519760132),\n",
       " ('прибывать', -0.9989558458328247)]"
      ]
     },
     "execution_count": 121,
     "metadata": {},
     "output_type": "execute_result"
    }
   ],
   "source": [
    "w2v_vect.most_similar(negative=[\"принц\"])"
   ]
  },
  {
   "cell_type": "code",
   "execution_count": 122,
   "metadata": {},
   "outputs": [
    {
     "name": "stderr",
     "output_type": "stream",
     "text": [
      "<ipython-input-122-211e3f66d4ae>:2: DeprecationWarning: Call to deprecated `__getitem__` (Method will be removed in 4.0.0, use self.wv.__getitem__() instead).\n",
      "  w2v_vect[\"принц\"]\n"
     ]
    },
    {
     "data": {
      "text/plain": [
       "array([ 0.245537  ,  0.03628403, -0.18329716, -0.19074942, -0.29679808,\n",
       "        0.08081293, -0.12029052, -0.41935748, -0.22911836, -0.01181113,\n",
       "       -0.20695761, -0.0256241 ,  0.13900298,  0.1437377 , -0.6162996 ,\n",
       "       -0.11384013,  0.04442195,  0.03383857,  0.02422381,  0.54271865,\n",
       "       -0.24837394, -0.45068517, -0.12207114,  0.28249276, -0.05764626,\n",
       "       -0.1623938 ,  0.02498499, -0.3239144 , -0.0063332 ,  0.4242198 ,\n",
       "        0.26691142,  0.13801765, -0.41811973, -0.18957224, -0.1652076 ,\n",
       "        0.35551426, -0.16210091, -0.36003035, -0.12139721,  0.2020953 ,\n",
       "       -0.16712724, -0.14203514, -0.25931618, -0.52077097,  0.15856254,\n",
       "       -0.35105705, -0.36204523,  0.00360463,  0.10166933, -0.36262202,\n",
       "        0.11752865, -0.07634296, -0.07751606, -0.10226088, -0.09196793,\n",
       "        0.14762802,  0.30522782,  0.13183914, -0.05922295, -0.09179928,\n",
       "        0.13197201, -0.12706925,  0.01360625, -0.06621646, -0.32570153,\n",
       "        0.09541529, -0.15323287, -0.15080276,  0.09860469, -0.2438429 ,\n",
       "        0.12798594, -0.19060403, -0.2203184 ,  0.15883957, -0.14922245,\n",
       "        0.26499054,  0.22963884, -0.11000149,  0.42188376,  0.03109287,\n",
       "        0.13916504, -0.04964758,  0.18171674,  0.3597554 ,  0.00374371,\n",
       "        0.065506  , -0.343177  ,  0.36134303,  0.06158949,  0.24492969,\n",
       "       -0.09684417,  0.03777655,  0.02240302, -0.19595566,  0.09310214,\n",
       "       -0.39108995, -0.0828941 , -0.38322031,  0.24747643, -0.03674381,\n",
       "        0.25557354,  0.15744153,  0.2531935 , -0.3030149 ,  0.24649791,\n",
       "       -0.18258563, -0.09805341,  0.10156264,  0.01201538,  0.28841877,\n",
       "       -0.06904312, -0.06393347,  0.14896652, -0.30933335, -0.10881697,\n",
       "       -0.08098938,  0.00422527, -0.35225308, -0.04936758,  0.36644292,\n",
       "        0.22816849,  0.2132077 , -0.09149409, -0.03393358, -0.07279942,\n",
       "        0.00340668, -0.06828356, -0.3062946 ,  0.17736135, -0.21880275,\n",
       "       -0.28815836, -0.03254274, -0.09956971,  0.16424634, -0.08572548,\n",
       "        0.1434612 ,  0.20253165, -0.1844729 , -0.49042383, -0.05209533,\n",
       "       -0.23348536,  0.36601877, -0.21673101, -0.11504218,  0.11873046,\n",
       "       -0.46676838,  0.02456875,  0.23077013,  0.02555909,  0.28299415,\n",
       "       -0.15199386, -0.07457021, -0.25134304, -0.14169347, -0.00699992,\n",
       "       -0.17542443,  0.34228012,  0.3935449 ,  0.2493984 , -0.32250404],\n",
       "      dtype=float32)"
      ]
     },
     "execution_count": 122,
     "metadata": {},
     "output_type": "execute_result"
    }
   ],
   "source": [
    "# как представлено слово принц\n",
    "w2v_vect[\"принц\"]"
   ]
  },
  {
   "cell_type": "code",
   "execution_count": 123,
   "metadata": {},
   "outputs": [
    {
     "name": "stderr",
     "output_type": "stream",
     "text": [
      "<ipython-input-123-a31dbd1028e5>:6: DeprecationWarning: Call to deprecated `__getitem__` (Method will be removed in 4.0.0, use self.wv.__getitem__() instead).\n",
      "  vecs.append(w2v_vect[word])\n"
     ]
    },
    {
     "data": {
      "text/plain": [
       "264    [0.192212, 0.025896449, -0.14253318, -0.146977...\n",
       "615    [0.19883347, 0.025716836, -0.14745197, -0.1508...\n",
       "329    [0.20977738, 0.02752598, -0.15580465, -0.15948...\n",
       "342    [0.19421, 0.024559291, -0.14399609, -0.1479173...\n",
       "394    [0.18944237, 0.0257835, -0.1401576, -0.1439752...\n",
       "                             ...                        \n",
       "71     [0.1983576, 0.02610941, -0.14667837, -0.150666...\n",
       "106    [0.20391141, 0.026656128, -0.15144986, -0.1547...\n",
       "270    [0.19439805, 0.025179038, -0.14384255, -0.1478...\n",
       "435    [0.19564474, 0.025394067, -0.14503337, -0.1484...\n",
       "102    [0.22170496, 0.029774982, -0.1645189, -0.16840...\n",
       "Name: text, Length: 640, dtype: object"
      ]
     },
     "execution_count": 123,
     "metadata": {},
     "output_type": "execute_result"
    }
   ],
   "source": [
    "# усредним векторы слов\n",
    "def text2vec(text):\n",
    "    vecs = []\n",
    "    for word in text:\n",
    "        try:\n",
    "            vecs.append(w2v_vect[word])\n",
    "        except KeyError:\n",
    "            pass\n",
    "    return np.sum(vecs, axis=0) / len(vecs)\n",
    "\n",
    "    \n",
    "    \n",
    "w2v_train = X_train_w2v.apply(text2vec)\n",
    "w2v_test = X_test_w2v.apply(text2vec)\n",
    "\n",
    "w2v_train"
   ]
  },
  {
   "cell_type": "code",
   "execution_count": 124,
   "metadata": {},
   "outputs": [],
   "source": [
    "w2v_train = np.dstack(w2v_train)[0]"
   ]
  },
  {
   "cell_type": "code",
   "execution_count": 125,
   "metadata": {},
   "outputs": [
    {
     "data": {
      "text/plain": [
       "array([[ 0.192212  ,  0.19883347,  0.20977738, ...,  0.19439805,\n",
       "         0.19564474,  0.22170496],\n",
       "       [ 0.02589645,  0.02571684,  0.02752598, ...,  0.02517904,\n",
       "         0.02539407,  0.02977498],\n",
       "       [-0.14253318, -0.14745197, -0.15580465, ..., -0.14384255,\n",
       "        -0.14503337, -0.1645189 ],\n",
       "       ...,\n",
       "       [ 0.31418163,  0.32424074,  0.34152094, ...,  0.3165012 ,\n",
       "         0.31912684,  0.36048463],\n",
       "       [ 0.20235014,  0.20952162,  0.22028418, ...,  0.2038176 ,\n",
       "         0.20634198,  0.2322079 ],\n",
       "       [-0.25342125, -0.26163012, -0.27671805, ..., -0.25575238,\n",
       "        -0.25775585, -0.29120427]], dtype=float32)"
      ]
     },
     "execution_count": 125,
     "metadata": {},
     "output_type": "execute_result"
    }
   ],
   "source": [
    "w2v_train"
   ]
  },
  {
   "cell_type": "markdown",
   "metadata": {},
   "source": [
    "# Классификация текстов\n",
    "Для каждого эмбеддинга вычислим по два суммарных вектора - для текстов маленького принца и преступления и наказания."
   ]
  },
  {
   "cell_type": "markdown",
   "metadata": {},
   "source": [
    "### Для Bag-of-Words"
   ]
  },
  {
   "cell_type": "code",
   "execution_count": 126,
   "metadata": {},
   "outputs": [
    {
     "data": {
      "text/plain": [
       "(1, 8329)"
      ]
     },
     "execution_count": 126,
     "metadata": {},
     "output_type": "execute_result"
    }
   ],
   "source": [
    "# средний текст маленького принца\n",
    "prinz_mean_bof = np.sum( bof_train[y_train == 0], axis=0 )\n",
    "prinz_mean_bof.shape"
   ]
  },
  {
   "cell_type": "code",
   "execution_count": 127,
   "metadata": {},
   "outputs": [
    {
     "data": {
      "text/plain": [
       "(1, 8329)"
      ]
     },
     "execution_count": 127,
     "metadata": {},
     "output_type": "execute_result"
    }
   ],
   "source": [
    "# средний текст преступления и наказания\n",
    "punishment_mean_bof = np.sum( bof_train[y_train == 1], axis=0 )\n",
    "punishment_mean_bof.shape"
   ]
  },
  {
   "cell_type": "markdown",
   "metadata": {},
   "source": [
    "### Для TF-IDF"
   ]
  },
  {
   "cell_type": "code",
   "execution_count": 128,
   "metadata": {},
   "outputs": [
    {
     "data": {
      "text/plain": [
       "(1, 8329)"
      ]
     },
     "execution_count": 128,
     "metadata": {},
     "output_type": "execute_result"
    }
   ],
   "source": [
    "prinz_mean_tfidf = np.sum(tfidf_train[y_train == 0], axis=0 )\n",
    "\n",
    "punishment_mean_tfidf = np.sum(tfidf_train[y_train == 1], axis=0 )\n",
    "\n",
    "prinz_mean_tfidf.shape"
   ]
  },
  {
   "cell_type": "markdown",
   "metadata": {},
   "source": [
    "### Для Word2Vec"
   ]
  },
  {
   "cell_type": "code",
   "execution_count": 129,
   "metadata": {},
   "outputs": [
    {
     "data": {
      "text/plain": [
       "(160,)"
      ]
     },
     "execution_count": 129,
     "metadata": {},
     "output_type": "execute_result"
    }
   ],
   "source": [
    "prinz_mean_w2v = np.sum(w2v_train[:,y_train==0], axis=1)\n",
    "\n",
    "punishment_mean_w2v = np.sum(w2v_train[:,y_train==1], axis=1)\n",
    "\n",
    "prinz_mean_w2v.shape"
   ]
  },
  {
   "cell_type": "code",
   "execution_count": 130,
   "metadata": {},
   "outputs": [
    {
     "data": {
      "text/plain": [
       "array([ 6.40624084e+01,  8.44387722e+00, -4.75578613e+01, -4.88064499e+01,\n",
       "       -7.94660797e+01,  2.23308926e+01, -3.10764503e+01, -1.10098740e+02,\n",
       "       -6.01521187e+01, -3.66172647e+00, -5.51797066e+01, -7.77440453e+00,\n",
       "        3.68218803e+01,  3.81487160e+01, -1.60721985e+02, -2.95013008e+01,\n",
       "        1.02565041e+01,  9.78651714e+00,  8.11316776e+00,  1.45240921e+02,\n",
       "       -6.54358521e+01, -1.18274536e+02, -3.26296120e+01,  7.44717102e+01,\n",
       "       -1.32945814e+01, -4.26390572e+01,  7.79782772e+00, -8.57362900e+01,\n",
       "       -2.73989820e+00,  1.11015869e+02,  7.08633423e+01,  3.84529495e+01,\n",
       "       -1.11289978e+02, -4.90402260e+01, -4.25191002e+01,  9.25432663e+01,\n",
       "       -4.47349243e+01, -9.69982758e+01, -3.20307350e+01,  5.40704536e+01,\n",
       "       -4.38650017e+01, -3.88428612e+01, -6.74242477e+01, -1.37171616e+02,\n",
       "        4.27638474e+01, -9.12902908e+01, -9.72430954e+01,  1.03766370e+00,\n",
       "        2.66416454e+01, -9.65082779e+01,  3.16157379e+01, -1.89150543e+01,\n",
       "       -1.95861568e+01, -2.80243473e+01, -2.38768177e+01,  3.82673302e+01,\n",
       "        8.23337021e+01,  3.59593925e+01, -1.63299713e+01, -2.51822567e+01,\n",
       "        3.37670059e+01, -3.43040352e+01,  3.51924419e+00, -1.76651573e+01,\n",
       "       -8.67192307e+01,  2.67481632e+01, -4.23127747e+01, -3.94468155e+01,\n",
       "        2.58336945e+01, -6.28417244e+01,  3.29762344e+01, -4.88101196e+01,\n",
       "       -5.83145027e+01,  4.18953781e+01, -3.82337761e+01,  6.92798233e+01,\n",
       "        6.19382133e+01, -2.89253712e+01,  1.11293861e+02,  7.65145588e+00,\n",
       "        3.53462791e+01, -1.24951363e+01,  4.95086098e+01,  9.55490799e+01,\n",
       "        3.17799258e+00,  1.52751579e+01, -9.08669128e+01,  9.38297424e+01,\n",
       "        1.63458881e+01,  6.55669174e+01, -2.61006069e+01,  1.10753508e+01,\n",
       "        6.24693680e+00, -5.04770203e+01,  2.41231937e+01, -1.04341133e+02,\n",
       "       -2.07844238e+01, -1.01053879e+02,  6.54756317e+01, -8.68792152e+00,\n",
       "        6.62759094e+01,  4.15844460e+01,  6.61941757e+01, -8.05915451e+01,\n",
       "        6.61855850e+01, -4.83928146e+01, -2.66876831e+01,  2.67126274e+01,\n",
       "        3.10372114e+00,  7.73033905e+01, -1.69637566e+01, -1.73523998e+01,\n",
       "        4.01597214e+01, -8.34512939e+01, -2.89158382e+01, -1.95267467e+01,\n",
       "        9.97813165e-01, -9.39567947e+01, -1.08406363e+01,  9.56760406e+01,\n",
       "        6.00718155e+01,  5.64553719e+01, -2.40259361e+01, -7.86873531e+00,\n",
       "       -1.86725941e+01,  3.09175625e-02, -1.79672298e+01, -8.13919830e+01,\n",
       "        4.56551857e+01, -5.88781471e+01, -7.51599960e+01, -9.41067696e+00,\n",
       "       -2.59830513e+01,  4.43790359e+01, -2.33628559e+01,  3.71991425e+01,\n",
       "        5.36452599e+01, -4.87049522e+01, -1.27666527e+02, -1.29134636e+01,\n",
       "       -6.25927887e+01,  9.77975922e+01, -5.81121864e+01, -3.03792114e+01,\n",
       "        3.07942314e+01, -1.22420441e+02,  6.72329473e+00,  6.07171593e+01,\n",
       "        7.40227509e+00,  7.52787399e+01, -3.94909782e+01, -1.87074661e+01,\n",
       "       -6.68748779e+01, -3.65575676e+01, -2.96874833e+00, -4.58839035e+01,\n",
       "        9.03469315e+01,  1.04458336e+02,  6.73789597e+01, -8.44355392e+01],\n",
       "      dtype=float32)"
      ]
     },
     "execution_count": 130,
     "metadata": {},
     "output_type": "execute_result"
    }
   ],
   "source": [
    "prinz_mean_w2v"
   ]
  },
  {
   "cell_type": "markdown",
   "metadata": {},
   "source": [
    "Построим датафреймы с результатами классификаций тестовых текстов. Решение - по косинусному расстоянию."
   ]
  },
  {
   "cell_type": "code",
   "execution_count": 131,
   "metadata": {},
   "outputs": [
    {
     "data": {
      "text/html": [
       "<div>\n",
       "<style scoped>\n",
       "    .dataframe tbody tr th:only-of-type {\n",
       "        vertical-align: middle;\n",
       "    }\n",
       "\n",
       "    .dataframe tbody tr th {\n",
       "        vertical-align: top;\n",
       "    }\n",
       "\n",
       "    .dataframe thead th {\n",
       "        text-align: right;\n",
       "    }\n",
       "</style>\n",
       "<table border=\"1\" class=\"dataframe\">\n",
       "  <thead>\n",
       "    <tr style=\"text-align: right;\">\n",
       "      <th></th>\n",
       "      <th>liitle_prinz</th>\n",
       "      <th>punishment</th>\n",
       "      <th>predict</th>\n",
       "      <th>class</th>\n",
       "    </tr>\n",
       "  </thead>\n",
       "  <tbody>\n",
       "    <tr>\n",
       "      <th>0</th>\n",
       "      <td>0.412849</td>\n",
       "      <td>0.306967</td>\n",
       "      <td>1.0</td>\n",
       "      <td>1.0</td>\n",
       "    </tr>\n",
       "    <tr>\n",
       "      <th>1</th>\n",
       "      <td>0.431667</td>\n",
       "      <td>0.386648</td>\n",
       "      <td>1.0</td>\n",
       "      <td>1.0</td>\n",
       "    </tr>\n",
       "    <tr>\n",
       "      <th>2</th>\n",
       "      <td>0.616548</td>\n",
       "      <td>0.609311</td>\n",
       "      <td>1.0</td>\n",
       "      <td>0.0</td>\n",
       "    </tr>\n",
       "    <tr>\n",
       "      <th>3</th>\n",
       "      <td>0.381547</td>\n",
       "      <td>0.261236</td>\n",
       "      <td>1.0</td>\n",
       "      <td>1.0</td>\n",
       "    </tr>\n",
       "    <tr>\n",
       "      <th>4</th>\n",
       "      <td>0.557969</td>\n",
       "      <td>0.656190</td>\n",
       "      <td>0.0</td>\n",
       "      <td>0.0</td>\n",
       "    </tr>\n",
       "    <tr>\n",
       "      <th>...</th>\n",
       "      <td>...</td>\n",
       "      <td>...</td>\n",
       "      <td>...</td>\n",
       "      <td>...</td>\n",
       "    </tr>\n",
       "    <tr>\n",
       "      <th>155</th>\n",
       "      <td>0.342913</td>\n",
       "      <td>0.255972</td>\n",
       "      <td>1.0</td>\n",
       "      <td>1.0</td>\n",
       "    </tr>\n",
       "    <tr>\n",
       "      <th>156</th>\n",
       "      <td>0.415083</td>\n",
       "      <td>0.346108</td>\n",
       "      <td>1.0</td>\n",
       "      <td>1.0</td>\n",
       "    </tr>\n",
       "    <tr>\n",
       "      <th>157</th>\n",
       "      <td>0.496763</td>\n",
       "      <td>0.410008</td>\n",
       "      <td>1.0</td>\n",
       "      <td>1.0</td>\n",
       "    </tr>\n",
       "    <tr>\n",
       "      <th>158</th>\n",
       "      <td>0.377861</td>\n",
       "      <td>0.259563</td>\n",
       "      <td>1.0</td>\n",
       "      <td>1.0</td>\n",
       "    </tr>\n",
       "    <tr>\n",
       "      <th>159</th>\n",
       "      <td>0.368474</td>\n",
       "      <td>0.250205</td>\n",
       "      <td>1.0</td>\n",
       "      <td>1.0</td>\n",
       "    </tr>\n",
       "  </tbody>\n",
       "</table>\n",
       "<p>160 rows × 4 columns</p>\n",
       "</div>"
      ],
      "text/plain": [
       "     liitle_prinz  punishment  predict  class\n",
       "0        0.412849    0.306967      1.0    1.0\n",
       "1        0.431667    0.386648      1.0    1.0\n",
       "2        0.616548    0.609311      1.0    0.0\n",
       "3        0.381547    0.261236      1.0    1.0\n",
       "4        0.557969    0.656190      0.0    0.0\n",
       "..            ...         ...      ...    ...\n",
       "155      0.342913    0.255972      1.0    1.0\n",
       "156      0.415083    0.346108      1.0    1.0\n",
       "157      0.496763    0.410008      1.0    1.0\n",
       "158      0.377861    0.259563      1.0    1.0\n",
       "159      0.368474    0.250205      1.0    1.0\n",
       "\n",
       "[160 rows x 4 columns]"
      ]
     },
     "execution_count": 131,
     "metadata": {},
     "output_type": "execute_result"
    }
   ],
   "source": [
    "from scipy.spatial.distance import cosine\n",
    "\n",
    "bof_prinz = np.apply_along_axis(cosine, 1, bof_test.toarray(), v=prinz_mean_bof)\n",
    "bof_punishment = np.apply_along_axis(cosine, 1, bof_test.toarray(), v=punishment_mean_bof)\n",
    "\n",
    "bof_results = pd.DataFrame ([\n",
    "    bof_prinz,\n",
    "    bof_punishment,\n",
    "    np.maximum(bof_prinz, bof_punishment) != bof_punishment,\n",
    "    y_test\n",
    "], index=[\"liitle_prinz\", \"punishment\", \"predict\", \"class\"]).T.astype(np.float)\n",
    "\n",
    "bof_results"
   ]
  },
  {
   "cell_type": "code",
   "execution_count": 132,
   "metadata": {},
   "outputs": [
    {
     "data": {
      "text/plain": [
       "0.9125"
      ]
     },
     "execution_count": 132,
     "metadata": {},
     "output_type": "execute_result"
    }
   ],
   "source": [
    "from sklearn.metrics import accuracy_score\n",
    "\n",
    "accuracy_score(bof_results[\"predict\"], bof_results[\"class\"])"
   ]
  },
  {
   "cell_type": "code",
   "execution_count": 133,
   "metadata": {},
   "outputs": [
    {
     "data": {
      "text/html": [
       "<div>\n",
       "<style scoped>\n",
       "    .dataframe tbody tr th:only-of-type {\n",
       "        vertical-align: middle;\n",
       "    }\n",
       "\n",
       "    .dataframe tbody tr th {\n",
       "        vertical-align: top;\n",
       "    }\n",
       "\n",
       "    .dataframe thead th {\n",
       "        text-align: right;\n",
       "    }\n",
       "</style>\n",
       "<table border=\"1\" class=\"dataframe\">\n",
       "  <thead>\n",
       "    <tr style=\"text-align: right;\">\n",
       "      <th></th>\n",
       "      <th>little_prinz</th>\n",
       "      <th>punishment</th>\n",
       "      <th>predict</th>\n",
       "      <th>class</th>\n",
       "    </tr>\n",
       "  </thead>\n",
       "  <tbody>\n",
       "    <tr>\n",
       "      <th>0</th>\n",
       "      <td>0.737594</td>\n",
       "      <td>0.619104</td>\n",
       "      <td>1.0</td>\n",
       "      <td>1.0</td>\n",
       "    </tr>\n",
       "    <tr>\n",
       "      <th>1</th>\n",
       "      <td>0.749908</td>\n",
       "      <td>0.681945</td>\n",
       "      <td>1.0</td>\n",
       "      <td>1.0</td>\n",
       "    </tr>\n",
       "    <tr>\n",
       "      <th>2</th>\n",
       "      <td>0.842430</td>\n",
       "      <td>0.858291</td>\n",
       "      <td>0.0</td>\n",
       "      <td>0.0</td>\n",
       "    </tr>\n",
       "    <tr>\n",
       "      <th>3</th>\n",
       "      <td>0.704611</td>\n",
       "      <td>0.557931</td>\n",
       "      <td>1.0</td>\n",
       "      <td>1.0</td>\n",
       "    </tr>\n",
       "    <tr>\n",
       "      <th>4</th>\n",
       "      <td>0.765273</td>\n",
       "      <td>0.853293</td>\n",
       "      <td>0.0</td>\n",
       "      <td>0.0</td>\n",
       "    </tr>\n",
       "    <tr>\n",
       "      <th>...</th>\n",
       "      <td>...</td>\n",
       "      <td>...</td>\n",
       "      <td>...</td>\n",
       "      <td>...</td>\n",
       "    </tr>\n",
       "    <tr>\n",
       "      <th>155</th>\n",
       "      <td>0.714353</td>\n",
       "      <td>0.603972</td>\n",
       "      <td>1.0</td>\n",
       "      <td>1.0</td>\n",
       "    </tr>\n",
       "    <tr>\n",
       "      <th>156</th>\n",
       "      <td>0.743852</td>\n",
       "      <td>0.635021</td>\n",
       "      <td>1.0</td>\n",
       "      <td>1.0</td>\n",
       "    </tr>\n",
       "    <tr>\n",
       "      <th>157</th>\n",
       "      <td>0.785575</td>\n",
       "      <td>0.680801</td>\n",
       "      <td>1.0</td>\n",
       "      <td>1.0</td>\n",
       "    </tr>\n",
       "    <tr>\n",
       "      <th>158</th>\n",
       "      <td>0.702591</td>\n",
       "      <td>0.576456</td>\n",
       "      <td>1.0</td>\n",
       "      <td>1.0</td>\n",
       "    </tr>\n",
       "    <tr>\n",
       "      <th>159</th>\n",
       "      <td>0.706173</td>\n",
       "      <td>0.574791</td>\n",
       "      <td>1.0</td>\n",
       "      <td>1.0</td>\n",
       "    </tr>\n",
       "  </tbody>\n",
       "</table>\n",
       "<p>160 rows × 4 columns</p>\n",
       "</div>"
      ],
      "text/plain": [
       "     little_prinz  punishment  predict  class\n",
       "0        0.737594    0.619104      1.0    1.0\n",
       "1        0.749908    0.681945      1.0    1.0\n",
       "2        0.842430    0.858291      0.0    0.0\n",
       "3        0.704611    0.557931      1.0    1.0\n",
       "4        0.765273    0.853293      0.0    0.0\n",
       "..            ...         ...      ...    ...\n",
       "155      0.714353    0.603972      1.0    1.0\n",
       "156      0.743852    0.635021      1.0    1.0\n",
       "157      0.785575    0.680801      1.0    1.0\n",
       "158      0.702591    0.576456      1.0    1.0\n",
       "159      0.706173    0.574791      1.0    1.0\n",
       "\n",
       "[160 rows x 4 columns]"
      ]
     },
     "execution_count": 133,
     "metadata": {},
     "output_type": "execute_result"
    }
   ],
   "source": [
    "tfidf_prinz = np.apply_along_axis(cosine, 1, tfidf_test.toarray(), v=prinz_mean_tfidf)\n",
    "tfidf_punishment = np.apply_along_axis(cosine, 1, tfidf_test.toarray(), v=punishment_mean_tfidf)\n",
    "\n",
    "tfidf_results = pd.DataFrame ([\n",
    "    tfidf_prinz,\n",
    "    tfidf_punishment,\n",
    "    np.maximum(tfidf_prinz, tfidf_punishment) != tfidf_punishment,\n",
    "    y_test\n",
    "], index=[\"little_prinz\", \"punishment\", \"predict\", \"class\"]).T.astype (np.float)\n",
    "\n",
    "tfidf_results"
   ]
  },
  {
   "cell_type": "code",
   "execution_count": 134,
   "metadata": {},
   "outputs": [
    {
     "data": {
      "text/plain": [
       "0.96875"
      ]
     },
     "execution_count": 134,
     "metadata": {},
     "output_type": "execute_result"
    }
   ],
   "source": [
    "accuracy_score(tfidf_results[\"predict\"], tfidf_results[\"class\"])"
   ]
  },
  {
   "cell_type": "code",
   "execution_count": 135,
   "metadata": {},
   "outputs": [
    {
     "data": {
      "text/html": [
       "<div>\n",
       "<style scoped>\n",
       "    .dataframe tbody tr th:only-of-type {\n",
       "        vertical-align: middle;\n",
       "    }\n",
       "\n",
       "    .dataframe tbody tr th {\n",
       "        vertical-align: top;\n",
       "    }\n",
       "\n",
       "    .dataframe thead th {\n",
       "        text-align: right;\n",
       "    }\n",
       "</style>\n",
       "<table border=\"1\" class=\"dataframe\">\n",
       "  <thead>\n",
       "    <tr style=\"text-align: right;\">\n",
       "      <th></th>\n",
       "      <th>little_prinz</th>\n",
       "      <th>punishment</th>\n",
       "      <th>predict</th>\n",
       "      <th>class</th>\n",
       "    </tr>\n",
       "  </thead>\n",
       "  <tbody>\n",
       "    <tr>\n",
       "      <th>0</th>\n",
       "      <td>0.737594</td>\n",
       "      <td>0.619104</td>\n",
       "      <td>1.0</td>\n",
       "      <td>1.0</td>\n",
       "    </tr>\n",
       "    <tr>\n",
       "      <th>1</th>\n",
       "      <td>0.749908</td>\n",
       "      <td>0.681945</td>\n",
       "      <td>1.0</td>\n",
       "      <td>1.0</td>\n",
       "    </tr>\n",
       "    <tr>\n",
       "      <th>2</th>\n",
       "      <td>0.842430</td>\n",
       "      <td>0.858291</td>\n",
       "      <td>0.0</td>\n",
       "      <td>0.0</td>\n",
       "    </tr>\n",
       "    <tr>\n",
       "      <th>3</th>\n",
       "      <td>0.704611</td>\n",
       "      <td>0.557931</td>\n",
       "      <td>0.0</td>\n",
       "      <td>1.0</td>\n",
       "    </tr>\n",
       "    <tr>\n",
       "      <th>4</th>\n",
       "      <td>0.765273</td>\n",
       "      <td>0.853293</td>\n",
       "      <td>0.0</td>\n",
       "      <td>0.0</td>\n",
       "    </tr>\n",
       "    <tr>\n",
       "      <th>...</th>\n",
       "      <td>...</td>\n",
       "      <td>...</td>\n",
       "      <td>...</td>\n",
       "      <td>...</td>\n",
       "    </tr>\n",
       "    <tr>\n",
       "      <th>155</th>\n",
       "      <td>0.714353</td>\n",
       "      <td>0.603972</td>\n",
       "      <td>0.0</td>\n",
       "      <td>1.0</td>\n",
       "    </tr>\n",
       "    <tr>\n",
       "      <th>156</th>\n",
       "      <td>0.743852</td>\n",
       "      <td>0.635021</td>\n",
       "      <td>1.0</td>\n",
       "      <td>1.0</td>\n",
       "    </tr>\n",
       "    <tr>\n",
       "      <th>157</th>\n",
       "      <td>0.785575</td>\n",
       "      <td>0.680801</td>\n",
       "      <td>1.0</td>\n",
       "      <td>1.0</td>\n",
       "    </tr>\n",
       "    <tr>\n",
       "      <th>158</th>\n",
       "      <td>0.702591</td>\n",
       "      <td>0.576456</td>\n",
       "      <td>1.0</td>\n",
       "      <td>1.0</td>\n",
       "    </tr>\n",
       "    <tr>\n",
       "      <th>159</th>\n",
       "      <td>0.706173</td>\n",
       "      <td>0.574791</td>\n",
       "      <td>0.0</td>\n",
       "      <td>1.0</td>\n",
       "    </tr>\n",
       "  </tbody>\n",
       "</table>\n",
       "<p>160 rows × 4 columns</p>\n",
       "</div>"
      ],
      "text/plain": [
       "     little_prinz  punishment  predict  class\n",
       "0        0.737594    0.619104      1.0    1.0\n",
       "1        0.749908    0.681945      1.0    1.0\n",
       "2        0.842430    0.858291      0.0    0.0\n",
       "3        0.704611    0.557931      0.0    1.0\n",
       "4        0.765273    0.853293      0.0    0.0\n",
       "..            ...         ...      ...    ...\n",
       "155      0.714353    0.603972      0.0    1.0\n",
       "156      0.743852    0.635021      1.0    1.0\n",
       "157      0.785575    0.680801      1.0    1.0\n",
       "158      0.702591    0.576456      1.0    1.0\n",
       "159      0.706173    0.574791      0.0    1.0\n",
       "\n",
       "[160 rows x 4 columns]"
      ]
     },
     "execution_count": 135,
     "metadata": {},
     "output_type": "execute_result"
    }
   ],
   "source": [
    "# w2v\n",
    "\n",
    "w2v_prinz = np.apply_along_axis(cosine, 0, w2v_test, v=prinz_mean_w2v)\n",
    "w2v_punishment = np.apply_along_axis(cosine, 0, w2v_test, v=punishment_mean_w2v)\n",
    "\n",
    "w2v_results = pd.DataFrame ([\n",
    "    tfidf_prinz,\n",
    "    tfidf_punishment,\n",
    "    np.maximum(w2v_prinz, w2v_punishment) != w2v_punishment,\n",
    "    y_test\n",
    "], index=[\"little_prinz\", \"punishment\", \"predict\", \"class\"]).T.astype (np.float)\n",
    "\n",
    "w2v_results\n"
   ]
  },
  {
   "cell_type": "code",
   "execution_count": 136,
   "metadata": {},
   "outputs": [
    {
     "data": {
      "text/plain": [
       "0.50625"
      ]
     },
     "execution_count": 136,
     "metadata": {},
     "output_type": "execute_result"
    }
   ],
   "source": [
    "accuracy_score(w2v_results[\"predict\"], w2v_results[\"class\"])"
   ]
  },
  {
   "cell_type": "markdown",
   "metadata": {},
   "source": [
    "##### Попробуем применить классическую модель поверх эмбеддингов"
   ]
  },
  {
   "cell_type": "code",
   "execution_count": 137,
   "metadata": {},
   "outputs": [
    {
     "data": {
      "text/plain": [
       "1.0"
      ]
     },
     "execution_count": 137,
     "metadata": {},
     "output_type": "execute_result"
    }
   ],
   "source": [
    "from sklearn.ensemble import RandomForestClassifier\n",
    "\n",
    "RandomForestClassifier().fit(tfidf_train.toarray(), y_train.tolist()).score(tfidf_test.toarray(), y_test.tolist())"
   ]
  },
  {
   "cell_type": "code",
   "execution_count": 138,
   "metadata": {},
   "outputs": [
    {
     "data": {
      "text/plain": [
       "1.0"
      ]
     },
     "execution_count": 138,
     "metadata": {},
     "output_type": "execute_result"
    }
   ],
   "source": [
    "RandomForestClassifier().fit(bof_train.toarray(), y_train.tolist()).score(bof_test.toarray(), y_test.tolist())"
   ]
  },
  {
   "cell_type": "code",
   "execution_count": null,
   "metadata": {},
   "outputs": [],
   "source": []
  }
 ],
 "metadata": {
  "kernelspec": {
   "display_name": "Python 3",
   "language": "python",
   "name": "python3"
  },
  "language_info": {
   "codemirror_mode": {
    "name": "ipython",
    "version": 3
   },
   "file_extension": ".py",
   "mimetype": "text/x-python",
   "name": "python",
   "nbconvert_exporter": "python",
   "pygments_lexer": "ipython3",
   "version": "3.8.2"
  }
 },
 "nbformat": 4,
 "nbformat_minor": 4
}
